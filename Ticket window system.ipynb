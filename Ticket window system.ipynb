{
  "cells": [
    {
      "cell_type": "markdown",
      "metadata": {
        "id": "IqXjwzEsKeMe"
      },
      "source": [
        "\n",
        "**Appendix :**<br>\n",
        "**Ticket window system**: The theater has a conductor who is responsible for selling tickets at the window and receiving telephone consultation service at the same time. The window service takes priority over the telephone service. Inquiries can be stored by the telephone storage system in sequence (up to five lines) and answered by the conductor. The purpose of the modeling is to study the busy and idle situation of conductors, the average time for customers to buy tickets and the average time for waiting in line. The arrival time and service time can be adjusted as model parameters. Inventory system model.\n",
        "\n",
        "\n",
        "---\n",
        "\n"
      ]
    },
    {
      "cell_type": "markdown",
      "metadata": {
        "id": "bhS-HNt2K-sV"
      },
      "source": [
        "# Simulation results analysis\n",
        " - Objective: To master the basic method of final state simulation results analysis and understand the sequential program.\n"
      ]
    },
    {
      "cell_type": "markdown",
      "metadata": {
        "id": "rD1JWcxuN1Z9"
      },
      "source": [
        "### code"
      ]
    },
    {
      "cell_type": "code",
      "execution_count": null,
      "metadata": {
        "id": "zmn7RjMyNwop"
      },
      "outputs": [],
      "source": [
        "import random\n",
        "import statistics\n",
        "import math\n",
        "\n",
        "# Function to run a single simulation\n",
        "def run_single_simulation():\n",
        "  busy_times = []  # Store busy times for each run\n",
        "  idle_times = []  # Store idle times for each run\n",
        "  purchase_times = []  # Store purchase times for each run\n",
        "  queue_times = []  # Store queue times for each run\n",
        "\n",
        "  # Simulate ticket window system for a certain number of customers\n",
        "  num_customers =+6  # Example: simulate for 10 customers\n",
        "  for _ in range(num_customers):\n",
        "    # Simulate ticket purchase process\n",
        "    purchase_time = random.uniform(3, 8)  # Example data for purchase time\n",
        "    purchase_times.append(purchase_time)\n",
        "\n",
        "    # Simulate queue time (waiting time)\n",
        "    queue_time = random.uniform(1, 5)  # Example data for queue time\n",
        "    queue_times.append(queue_time)\n",
        "\n",
        "    # Determine busy or idle time for conductor\n",
        "    if queue_time > 3:\n",
        "      busy_time = random.uniform(5, 10)  # Example data for busy time\n",
        "      idle_time = 0\n",
        "    else:\n",
        "      busy_time = 0\n",
        "      idle_time = random.uniform(2, 7)  # Example data for idle time\n",
        "\n",
        "    busy_times.append(busy_time)\n",
        "    idle_times.append(idle_time)\n",
        "\n",
        "  return busy_times, idle_times, purchase_times, queue_times\n",
        "\n",
        "# Function to calculate confidence interval\n",
        "def calculate_confidence_interval(data, confidence_level):\n",
        "  mean = statistics.mean(data)\n",
        "  stdev = statistics.stdev(data)\n",
        "  z_value = statistics.NormalDist().inv_cdf((1 + confidence_level) / 2)\n",
        "  margin_of_error = z_value * stdev / (len(data) ** 0.5)\n",
        "  lower_bound = mean - margin_of_error\n",
        "  upper_bound = mean + margin_of_error\n",
        "  return lower_bound, upper_bound\n",
        "\n",
        "# Function to calculate minimum number of runs needed for desired confidence interval\n",
        "def calculate_min_runs(confidence_level, desired_accuracy):\n",
        "  # Z-value for a given confidence level\n",
        "  z_value = 1.645  # For 90% confidence level\n",
        "\n",
        "  # Calculate minimum number of runs needed\n",
        "  min_runs = ((z_value / desired_accuracy) ** 2)\n",
        "\n",
        "  return math.ceil(min_runs)\n",
        "\n",
        "# Function to run simulation and calculate confidence intervals\n",
        "def run_and_calculate_intervals(num_simulations, min_samples):\n",
        "  all_queue_times = []\n",
        "\n",
        "  for _ in range(num_simulations):\n",
        "    # Run simulation and collect queue times\n",
        "    _, _, _, queue_times = run_single_simulation()  # Extract only queue times\n",
        "    all_queue_times.extend(queue_times)\n",
        "\n",
        "  # Calculate confidence interval for queue times\n",
        "  confidence_level = 0.90  # You can adjust this as needed\n",
        "  queue_interval = calculate_confidence_interval(all_queue_times, confidence_level)\n",
        "\n",
        "  return queue_interval\n",
        "\n"
      ]
    },
    {
      "cell_type": "markdown",
      "metadata": {
        "id": "jPX51QtILCjG"
      },
      "source": [
        "### 1. Run the simulation program in Experiment 2 . (5) times independently."
      ]
    },
    {
      "cell_type": "code",
      "execution_count": null,
      "metadata": {
        "colab": {
          "base_uri": "https://localhost:8080/"
        },
        "id": "tt7NhyGZKZ73",
        "outputId": "525fc30f-3ae8-4c6d-8c99-c19c298a63b6"
      },
      "outputs": [
        {
          "name": "stdout",
          "output_type": "stream",
          "text": [
            "Run 1 Results:\n",
            "Busy Times: [0, 0, 8.777258788898678, 7.939394533354081, 0, 0]\n",
            "Idle Times: [3.4155895725689405, 2.2318062342149094, 0, 0, 4.268618655114194, 2.742927713055046]\n",
            "Purchase Times: [6.680914665441226, 6.519461245165681, 5.573216468842748, 6.442731091778235, 7.181425593688647, 7.0265016280464545]\n",
            "Queue Times: [1.5937417133107812, 1.8218266441641093, 3.1129470658812877, 3.313755277341593, 2.8144413582881054, 1.177980001580941]\n",
            "\n",
            "Run 2 Results:\n",
            "Busy Times: [0, 8.259730324480902, 0, 0, 8.633001208628407, 9.863436662799089]\n",
            "Idle Times: [4.7000540868692005, 0, 6.521354403918092, 4.172017209857804, 0, 0]\n",
            "Purchase Times: [7.7244699127887735, 6.014590796989715, 6.60744777213152, 4.450439713850738, 4.579325191624459, 3.635581273705808]\n",
            "Queue Times: [1.1869514306262792, 4.6489080192741765, 2.9442456891434516, 2.8452602528310496, 4.150114636945192, 3.611433962812093]\n",
            "\n",
            "Run 3 Results:\n",
            "Busy Times: [0, 0, 0, 8.550264350365367, 0, 0]\n",
            "Idle Times: [6.585728701262996, 2.6997147286412977, 4.562443999471097, 0, 4.700432274875279, 3.8412985805525417]\n",
            "Purchase Times: [5.345336574897214, 6.424662980164003, 5.599229753219252, 7.902454309449101, 7.810536321931195, 3.258251215185325]\n",
            "Queue Times: [2.5861908398988875, 1.7154512192176732, 1.9745024299695881, 3.5366348840117787, 2.0509930109793206, 2.919980043301397]\n",
            "\n",
            "Run 4 Results:\n",
            "Busy Times: [7.204522892591712, 6.761047240172763, 0, 0, 0, 6.986803436180332]\n",
            "Idle Times: [0, 0, 3.4743857730175094, 4.227257256508883, 4.292173118361731, 0]\n",
            "Purchase Times: [5.603185240574506, 7.833623189245367, 7.213955591187241, 5.876546578453533, 3.8361601806470755, 5.783496957319969]\n",
            "Queue Times: [3.6677219421638543, 4.992152687712931, 1.3733700296269564, 2.6487197088793657, 2.465242578997848, 4.596683551792928]\n",
            "\n",
            "Run 5 Results:\n",
            "Busy Times: [0, 0, 9.943117717708038, 0, 9.763649868869416, 8.00929093580414]\n",
            "Idle Times: [6.3199428690182256, 4.211188962578712, 0, 3.4695275365820244, 0, 0]\n",
            "Purchase Times: [7.67370885586657, 7.899507093645288, 6.714936184681391, 5.168898984927172, 7.029177803724957, 3.081235030577921]\n",
            "Queue Times: [2.768898239143738, 2.777115732421309, 3.163915759667778, 1.2004036125335569, 3.7062444947108832, 4.577490632928364]\n",
            "\n"
          ]
        }
      ],
      "source": [
        "# Step 1: Run the simulation program in Experiment 2 (5) times independently\n",
        "num_simulations = 5\n",
        "\n",
        "all_busy_times = []\n",
        "all_idle_times = []\n",
        "all_purchase_times = []\n",
        "all_queue_times = []\n",
        "\n",
        "for _ in range(num_simulations):\n",
        "    # Run the simulation and collect data\n",
        "    busy_times, idle_times, purchase_times, queue_times = run_single_simulation()\n",
        "\n",
        "    # Store results from each run\n",
        "    all_busy_times.append(busy_times)\n",
        "    all_idle_times.append(idle_times)\n",
        "    all_purchase_times.append(purchase_times)\n",
        "    all_queue_times.append(queue_times)\n",
        "\n",
        "# Display results from each run\n",
        "for i in range(num_simulations):\n",
        "    print(f\"Run {i+1} Results:\")\n",
        "    print(f\"Busy Times: {all_busy_times[i]}\")\n",
        "    print(f\"Idle Times: {all_idle_times[i]}\")\n",
        "    print(f\"Purchase Times: {all_purchase_times[i]}\")\n",
        "    print(f\"Queue Times: {all_queue_times[i]}\")\n",
        "    print()\n"
      ]
    },
    {
      "cell_type": "markdown",
      "metadata": {
        "id": "tkuKJXziMmvr"
      },
      "source": [
        "### 2.Calculate the minimum number of runs required to obtain the confidence interval of 90% confidence of the average queuing time index of customers with an accuracy of 0.1 minutes."
      ]
    },
    {
      "cell_type": "code",
      "execution_count": null,
      "metadata": {
        "colab": {
          "base_uri": "https://localhost:8080/"
        },
        "id": "PDqExGbFMnFg",
        "outputId": "84641b80-9df2-4238-eff4-969e2a7684ad"
      },
      "outputs": [
        {
          "name": "stdout",
          "output_type": "stream",
          "text": [
            "Minimum number of runs needed: 271\n"
          ]
        }
      ],
      "source": [
        "# Step 2: Calculate the minimum number of runs required to obtain the confidence interval\n",
        "min_samples = calculate_min_runs(0.90, 0.1)\n",
        "print(f\"Minimum number of runs needed: {min_samples}\")"
      ]
    },
    {
      "cell_type": "markdown",
      "metadata": {
        "id": "_DJGPpLqMnV-"
      },
      "source": [
        "### 3.Complete the required number of independent runs of the simulation test and calculate the confidence interval."
      ]
    },
    {
      "cell_type": "code",
      "execution_count": null,
      "metadata": {
        "colab": {
          "base_uri": "https://localhost:8080/"
        },
        "id": "wogjm8MwMnsP",
        "outputId": "9d2e2803-4486-4ace-9c41-15b96f7f2630"
      },
      "outputs": [
        {
          "name": "stdout",
          "output_type": "stream",
          "text": [
            "Confidence Interval for Queue Time (90.0%): [2.89 - 3.52]\n"
          ]
        }
      ],
      "source": [
        "confidence_level = 0.9  # You can adjust this value\n",
        "\n",
        "queue_interval = run_and_calculate_intervals(num_simulations, min_samples)\n",
        "\n",
        "print(f\"Confidence Interval for Queue Time ({confidence_level * 100}%):\"\n",
        "      f\" [{queue_interval[0]:.2f} - {queue_interval[1]:.2f}]\")\n"
      ]
    },
    {
      "cell_type": "markdown",
      "metadata": {
        "id": "Qr9uHf52MoAL"
      },
      "source": [
        "### 4. Using the sequential program to obtain the 90% confidence interval and 1% accuracy of each index of the busy and idle situation of the conductor, the average time of purchasing tickets and the average queuing time of the customers.\n"
      ]
    },
    {
      "cell_type": "code",
      "execution_count": null,
      "metadata": {
        "colab": {
          "base_uri": "https://localhost:8080/"
        },
        "id": "tpJ7xdMEMv2U",
        "outputId": "413b381a-8cb9-44d2-d02b-44997582d65e"
      },
      "outputs": [
        {
          "name": "stdout",
          "output_type": "stream",
          "text": [
            "90% Confidence Intervals:\n",
            "Busy Time Intervals: [(7.162071685715478, 8.999537633333684), (-0.9025575919980897, 3.7018210349747758), (1.0005982338002077, 6.971508595899121), (-0.7771647259332077, 3.1875248245721286), (2.7076192034516113, 8.82057186298864)]\n",
            "Idle Time Intervals: [(0.0, 0.0), (1.7384734650889295, 5.144854006194048), (0.5401705933263037, 4.413661982353071), (2.909686548918353, 6.317961525664284), (-0.11867680157799598, 2.3005658617550075)]\n",
            "Purchase Time Intervals: [(4.147085372291104, 6.495760588494497), (5.314581703514427, 7.649038664153662), (4.24274980949488, 6.430724477412264), (3.365235714822706, 4.905414318695319), (4.941520957297784, 6.836493288510787)]\n",
            "Queue Time Intervals: [(3.8112859775120693, 4.467700162251678), (1.7197479245640472, 3.2728856730447538), (2.337125501914031, 3.7335939472800503), (2.0582236990627547, 3.0732781402142053), (2.652546872643332, 4.372959524577954)]\n"
          ]
        }
      ],
      "source": [
        "# Step 4: Using the sequential program to obtain the 90% confidence interval and 1% accuracy of each index\n",
        "busy_intervals = [calculate_confidence_interval(data, 0.90) for data in all_busy_times]\n",
        "idle_intervals = [calculate_confidence_interval(data, 0.90) for data in all_idle_times]\n",
        "purchase_intervals = [calculate_confidence_interval(data, 0.90) for data in all_purchase_times]\n",
        "queue_intervals = [calculate_confidence_interval(data, 0.90) for data in all_queue_times]\n",
        "\n",
        "# Display results\n",
        "print(\"90% Confidence Intervals:\")\n",
        "print(f\"Busy Time Intervals: {busy_intervals}\")\n",
        "print(f\"Idle Time Intervals: {idle_intervals}\")\n",
        "print(f\"Purchase Time Intervals: {purchase_intervals}\")\n",
        "print(f\"Queue Time Intervals: {queue_intervals}\")\n"
      ]
    }
  ],
  "metadata": {
    "colab": {
      "provenance": []
    },
    "kernelspec": {
      "display_name": "Python 3",
      "name": "python3"
    },
    "language_info": {
      "name": "python"
    }
  },
  "nbformat": 4,
  "nbformat_minor": 0
}
